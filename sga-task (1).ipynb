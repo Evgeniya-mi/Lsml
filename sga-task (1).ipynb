{
 "cells": [
  {
   "cell_type": "markdown",
   "metadata": {},
   "source": [
    "# User routes on the site\n",
    "## Description\n",
    "**Clickstream** is a sequence of user actions on a website. It allows you to understand how users interact with the site. In this task, you need to find the most frequent custom routes.\n",
    "\n",
    "## Input data\n",
    "Input data is а table with clickstream data in file `hdfs:/data/clickstream.csv`.\n",
    "\n",
    "### Table structure\n",
    "* `user_id (int)` - Unique user identifier.\n",
    "* `session_id (int)` - Unique identifier for the user session. The user's session lasts until the identifier changes.\n",
    "* `event_type (string)` - Event type from the list:\n",
    "    * **page** - visit to the page\n",
    "    * **event** - any action on the page\n",
    "    * <b>&lt;custom&gt;</b> - string with any other type\n",
    "* `event_type (string)` - Page on the site.\n",
    "* `timestamp (int)` - Unix-timestamp of action.\n",
    "\n",
    "### Browser errors\n",
    "Errors can sometimes occur in the user's browser - after such an error appears, we can no longer trust the data of this session and all the following lines after the error or at the same time with it are considered corrupted and **should not be counted** in statistics.\n",
    "\n",
    "When an error occurs on the page, a random string containing the word **error** will be written to the `event_type` field.\n",
    "\n",
    "### Sample of user session\n",
    "<pre>\n",
    "+-------+----------+------------+----------+----------+\n",
    "|user_id|session_id|  event_type|event_page| timestamp|\n",
    "+-------+----------+------------+----------+----------+\n",
    "|    562|       507|        page|      main|1620494781|\n",
    "|    562|       507|       event|      main|1620494788|\n",
    "|    562|       507|       event|      main|1620494798|\n",
    "|    562|       507|        page|    family|1620494820|\n",
    "|    562|       507|       event|    family|1620494828|\n",
    "|    562|       507|        page|      main|1620494848|\n",
    "|    562|       507|wNaxLlerrorU|      main|1620494865|\n",
    "|    562|       507|       event|      main|1620494873|\n",
    "|    562|       507|        page|      news|1620494875|\n",
    "|    562|       507|        page|   tariffs|1620494876|\n",
    "|    562|       507|       event|   tariffs|1620494884|\n",
    "|    562|       514|        page|      main|1620728918|\n",
    "|    562|       514|       event|      main|1620729174|\n",
    "|    562|       514|        page|   archive|1620729674|\n",
    "|    562|       514|        page|     bonus|1620729797|\n",
    "|    562|       514|        page|   tariffs|1620731090|\n",
    "|    562|       514|       event|   tariffs|1620731187|\n",
    "+-------+----------+------------+----------+----------+\n",
    "</pre>\n",
    "\n",
    "#### Correct user routes for a given user:\n",
    "* **Session 507**: main-family-main\n",
    "* **Session 514**: main-archive-bonus-tariffs\n",
    "\n",
    "Route elements are ordered by the time they appear in the clickstream, from earliest to latest.\n",
    "\n",
    "The route must be accounted for completely before the end of the session or an error in the session.\n",
    "\n",
    "## Task\n",
    "You need to use the Spark SQL, Spark RDD and Spark DF interfaces to create a solution file, the lines of which contain **the 30 most frequent user routes** on the site.\n",
    "\n",
    "Each line of the file should contain the `route` and `count` values **separated by tabs**, where:\n",
    "* `route` - route on the site, consisting of pages separated by \"-\".\n",
    "* `count` - the number of user sessions in which this route was.\n",
    "\n",
    "The lines must be **ordered in descending order** of the `count` field.\n",
    "\n",
    "## Criteria\n",
    "You can get maximum of 3.5 points (final grade) for this assignment, depedning on the number of interface you manage to leverage. The criteria are as follows:\n",
    "\n",
    "* 0.5 points – Spark SQL solution with 1 query\n",
    "* 0.5 points – Spark SQL solution with <=2 queries\n",
    "* 0.5 points – Spark RDD solution\n",
    "* 0.5 points – Spark DF solution\n",
    "* 0.5 points – your solution algorithm is relatively optimized, i.e.: no O^2 or O^3 complexities; appropriate object usage; no data leaks etc. This is evaluated by staff.\n",
    "* 1 point – 1 on 1 screening session. During this session staff member can ask you questions regarding your solution logic, framework usage, questionable parts of your code etc. If your code is clean enough, the staff member can just ask you to solve a theoretical problem connected to Spark.\n"
   ]
  },
  {
   "cell_type": "code",
   "execution_count": 1,
   "metadata": {
    "tags": []
   },
   "outputs": [
    {
     "name": "stderr",
     "output_type": "stream",
     "text": [
      "Setting default log level to \"WARN\".\n",
      "To adjust logging level use sc.setLogLevel(newLevel). For SparkR, use setLogLevel(newLevel).\n",
      "2024-10-27 16:09:30,688 WARN yarn.Client: Neither spark.yarn.jars nor spark.yarn.archive is set, falling back to uploading libraries under SPARK_HOME.\n"
     ]
    }
   ],
   "source": [
    "import findspark\n",
    "findspark.init()\n",
    "\n",
    "import pyspark\n",
    "sc = pyspark.SparkContext(appName='jupyter')\n",
    "\n",
    "from pyspark.sql import SparkSession, Row\n",
    "se = SparkSession(sc)"
   ]
  },
  {
   "cell_type": "code",
   "execution_count": 2,
   "metadata": {
    "tags": []
   },
   "outputs": [],
   "source": [
    "from pyspark.sql import functions as F"
   ]
  },
  {
   "cell_type": "markdown",
   "metadata": {},
   "source": [
    " # SQL  (1 query)"
   ]
  },
  {
   "cell_type": "code",
   "execution_count": 3,
   "metadata": {
    "tags": []
   },
   "outputs": [
    {
     "name": "stderr",
     "output_type": "stream",
     "text": [
      "                                                                                \r"
     ]
    },
    {
     "name": "stdout",
     "output_type": "stream",
     "text": [
      "+-------+----------+------------+----------+----------+\n",
      "|user_id|session_id|  event_type|event_page| timestamp|\n",
      "+-------+----------+------------+----------+----------+\n",
      "|    562|       507|        page|      main|1695584127|\n",
      "|    562|       507|       event|      main|1695584134|\n",
      "|    562|       507|       event|      main|1695584144|\n",
      "|    562|       507|       event|      main|1695584147|\n",
      "|    562|       507|wNaxLlerrorU|      main|1695584154|\n",
      "|    562|       507|       event|      main|1695584154|\n",
      "|    562|       507|       event|      main|1695584154|\n",
      "|    562|       507|       event|      main|1695584160|\n",
      "|    562|       507|        page|    rabota|1695584166|\n",
      "|    562|       507|       event|    rabota|1695584174|\n",
      "|    562|       507|       event|    rabota|1695584181|\n",
      "|    562|       507|       event|    rabota|1695584189|\n",
      "|    562|       507|        page|      main|1695584194|\n",
      "|    562|       507|       event|      main|1695584204|\n",
      "|    562|       507|       event|      main|1695584211|\n",
      "|    562|       507|       event|      main|1695584211|\n",
      "|    562|       507|       event|      main|1695584219|\n",
      "|    562|       507|        page|     bonus|1695584221|\n",
      "|    562|       507|        page|    online|1695584222|\n",
      "|    562|       507|       event|    online|1695584230|\n",
      "+-------+----------+------------+----------+----------+\n",
      "only showing top 20 rows\n",
      "\n"
     ]
    }
   ],
   "source": [
    "click = se.read.option(\"sep\", \"\\t\").option(\"header\",True).csv(\"hdfs:/data/clickstream.csv\")\n",
    "click.registerTempTable(\"click\")\n",
    "click.show()"
   ]
  },
  {
   "cell_type": "code",
   "execution_count": 4,
   "metadata": {
    "tags": []
   },
   "outputs": [],
   "source": [
    "clicksql = se.sql(\"\"\"\n",
    "with error_table as \n",
    "    (select CONCAT_WS(':', user_id, session_id) as user_id_session_id,\n",
    "            timestamp\n",
    "     from click\n",
    "     where event_type like '%error%')\n",
    ",error_table_without_dub as \n",
    "     (select user_id_session_id,\n",
    "             min(timestamp) as timestamp\n",
    "      from error_table\n",
    "      group by user_id_session_id)\n",
    ",click_mod as \n",
    "    (select CONCAT_WS(':', user_id, session_id) as user_id_session_id,\n",
    "            user_id,\n",
    "            session_id,\n",
    "            event_type,\n",
    "            event_page,\n",
    "            timestamp\n",
    "     from click )\n",
    "select route,count(route) as count   from      (select collect_list( distinct(event_page)) as route,\n",
    "               user_id_session_id\n",
    "        from (select\n",
    "                 click_mod.user_id_session_id,\n",
    "                 click_mod.user_id,\n",
    "                 click_mod.session_id,\n",
    "                 click_mod.event_type,\n",
    "                 click_mod.event_page,\n",
    "                 click_mod.timestamp,\n",
    "                 error_table_without_dub.timestamp ,\n",
    "                 Case when click_mod.timestamp > error_table_without_dub.timestamp then 0 else 1 end  as Line_without_Error \n",
    "             from\n",
    "                 click_mod left outer join error_table_without_dub on click_mod.user_id_session_id=error_table_without_dub.user_id_session_id \n",
    " ) \n",
    "        where Line_without_Error =1\n",
    "        group by user_id_session_id)\n",
    "group by route\n",
    "order by count DESC\n",
    "\"\"\")"
   ]
  },
  {
   "cell_type": "code",
   "execution_count": 5,
   "metadata": {
    "tags": []
   },
   "outputs": [
    {
     "name": "stderr",
     "output_type": "stream",
     "text": [
      "                                                                                \r"
     ]
    }
   ],
   "source": [
    "a=clicksql.withColumn(\"route\", F.array_join(clicksql.route, \"-\")).collect()"
   ]
  },
  {
   "cell_type": "code",
   "execution_count": 6,
   "metadata": {
    "tags": []
   },
   "outputs": [
    {
     "data": {
      "text/plain": [
       "48523"
      ]
     },
     "execution_count": 6,
     "metadata": {},
     "output_type": "execute_result"
    }
   ],
   "source": [
    "# total number of routes\n",
    "count=0\n",
    "for x in a:\n",
    "    count+=x['count']\n",
    "count"
   ]
  },
  {
   "cell_type": "code",
   "execution_count": 7,
   "metadata": {
    "tags": []
   },
   "outputs": [
    {
     "data": {
      "text/plain": [
       "{'main': 8184,\n",
       " 'main-archive': 1212,\n",
       " 'main-rabota': 1155,\n",
       " 'main-internet': 979,\n",
       " 'main-bonus': 941,\n",
       " 'main-news': 834,\n",
       " 'main-tariffs': 733,\n",
       " 'main-online': 635,\n",
       " 'main-vklad': 549,\n",
       " 'main-archive-rabota': 231,\n",
       " 'main-rabota-archive': 223,\n",
       " 'main-internet-rabota': 189,\n",
       " 'main-bonus-archive': 186,\n",
       " 'main-bonus-rabota': 185,\n",
       " 'main-archive-internet': 184,\n",
       " 'main-news-rabota': 182,\n",
       " 'main-rabota-bonus': 179,\n",
       " 'main-rabota-internet': 177,\n",
       " 'main-internet-archive': 174,\n",
       " 'main-archive-bonus': 173,\n",
       " 'main-archive-news': 173,\n",
       " 'main-rabota-news': 169,\n",
       " 'main-news-archive': 153,\n",
       " 'main-internet-bonus': 152,\n",
       " 'main-archive-tariffs': 146,\n",
       " 'main-internet-news': 140,\n",
       " 'main-news-internet': 133,\n",
       " 'main-archive-online': 132,\n",
       " 'main-tariffs-archive': 132,\n",
       " 'main-tariffs-internet': 128}"
      ]
     },
     "execution_count": 7,
     "metadata": {},
     "output_type": "execute_result"
    }
   ],
   "source": [
    "# top 30 routes\n",
    "MyDic={}\n",
    "for x in a [:30]:\n",
    "    MyDic[x['route']]=x['count']\n",
    "MyDic\n"
   ]
  },
  {
   "cell_type": "markdown",
   "metadata": {},
   "source": [
    " # SQL  (2 query)"
   ]
  },
  {
   "cell_type": "code",
   "execution_count": 8,
   "metadata": {
    "tags": []
   },
   "outputs": [],
   "source": [
    "click = se.read.option(\"sep\", \"\\t\").option(\"header\",True).csv(\"hdfs:/data/clickstream.csv\")\n",
    "click.registerTempTable(\"click\")"
   ]
  },
  {
   "cell_type": "code",
   "execution_count": 9,
   "metadata": {
    "tags": []
   },
   "outputs": [],
   "source": [
    "clicksql1 = se.sql(\"\"\"\n",
    "with error_table as \n",
    "    (select CONCAT_WS(':', user_id, session_id) as user_id_session_id,\n",
    "            timestamp\n",
    "     from click\n",
    "     where event_type like '%error%')\n",
    ",error_table_without_dub as \n",
    "     (select user_id_session_id,\n",
    "             min(timestamp) as timestamp\n",
    "      from error_table\n",
    "      group by user_id_session_id)\n",
    ",click_mod as \n",
    "    (select CONCAT_WS(':', user_id, session_id) as user_id_session_id,\n",
    "            user_id,\n",
    "            session_id,\n",
    "            event_type,\n",
    "            event_page,\n",
    "            timestamp\n",
    "     from click )\n",
    " (select collect_list(distinct(event_page)) as route,\n",
    "               user_id_session_id\n",
    "        from (select\n",
    "                 click_mod.user_id_session_id,\n",
    "                 click_mod.user_id,\n",
    "                 click_mod.session_id,\n",
    "                 click_mod.event_type,\n",
    "                 click_mod.event_page,\n",
    "                 click_mod.timestamp,\n",
    "                 error_table_without_dub.timestamp ,\n",
    "                 Case when click_mod.timestamp > error_table_without_dub.timestamp then 0 else 1 end  as Line_without_Error \n",
    "             from\n",
    "                 click_mod left outer join error_table_without_dub on click_mod.user_id_session_id=error_table_without_dub.user_id_session_id \n",
    " ) \n",
    "        where Line_without_Error =1\n",
    "        group by user_id_session_id)\n",
    "\n",
    "\"\"\")"
   ]
  },
  {
   "cell_type": "code",
   "execution_count": 10,
   "metadata": {
    "tags": []
   },
   "outputs": [],
   "source": [
    "clicksql1.registerTempTable(\"clicksql1\")"
   ]
  },
  {
   "cell_type": "code",
   "execution_count": 11,
   "metadata": {
    "tags": []
   },
   "outputs": [],
   "source": [
    "clicksql2 = se.sql(\"\"\"\n",
    "select \n",
    "     route,count(route) as count  \n",
    "from \n",
    "     clicksql1\n",
    "group by route\n",
    "order by count DESC\n",
    "\"\"\")"
   ]
  },
  {
   "cell_type": "code",
   "execution_count": 12,
   "metadata": {
    "tags": []
   },
   "outputs": [
    {
     "name": "stderr",
     "output_type": "stream",
     "text": [
      "                                                                                \r"
     ]
    }
   ],
   "source": [
    "a=clicksql2.withColumn(\"route\", F.array_join(clicksql2.route, \"-\")).collect()"
   ]
  },
  {
   "cell_type": "code",
   "execution_count": 13,
   "metadata": {
    "tags": []
   },
   "outputs": [
    {
     "data": {
      "text/plain": [
       "48523"
      ]
     },
     "execution_count": 13,
     "metadata": {},
     "output_type": "execute_result"
    }
   ],
   "source": [
    "# total number of routes\n",
    "count=0\n",
    "for x in a:\n",
    "    count+=x['count']\n",
    "count"
   ]
  },
  {
   "cell_type": "code",
   "execution_count": 14,
   "metadata": {
    "tags": []
   },
   "outputs": [
    {
     "data": {
      "text/plain": [
       "{'main': 8184,\n",
       " 'main-archive': 1208,\n",
       " 'main-rabota': 1155,\n",
       " 'main-internet': 977,\n",
       " 'main-bonus': 941,\n",
       " 'main-news': 830,\n",
       " 'main-tariffs': 731,\n",
       " 'main-online': 635,\n",
       " 'main-vklad': 549,\n",
       " 'main-archive-rabota': 232,\n",
       " 'main-rabota-archive': 223,\n",
       " 'main-internet-rabota': 190,\n",
       " 'main-bonus-archive': 186,\n",
       " 'main-archive-internet': 185,\n",
       " 'main-bonus-rabota': 183,\n",
       " 'main-news-rabota': 182,\n",
       " 'main-rabota-bonus': 179,\n",
       " 'main-rabota-internet': 175,\n",
       " 'main-archive-bonus': 173,\n",
       " 'main-internet-archive': 173,\n",
       " 'main-archive-news': 170,\n",
       " 'main-rabota-news': 169,\n",
       " 'main-news-archive': 154,\n",
       " 'main-internet-bonus': 151,\n",
       " 'main-archive-tariffs': 145,\n",
       " 'main-internet-news': 140,\n",
       " 'main-news-internet': 134,\n",
       " 'main-archive-online': 134,\n",
       " 'main-tariffs-archive': 133,\n",
       " 'main-tariffs-internet': 127}"
      ]
     },
     "execution_count": 14,
     "metadata": {},
     "output_type": "execute_result"
    }
   ],
   "source": [
    "# top 30 routes\n",
    "MyDic={}\n",
    "for x in a [:30]:\n",
    "    MyDic[x['route']]=x['count']\n",
    "MyDic"
   ]
  },
  {
   "cell_type": "markdown",
   "metadata": {},
   "source": [
    "# DF"
   ]
  },
  {
   "cell_type": "code",
   "execution_count": 15,
   "metadata": {
    "tags": []
   },
   "outputs": [
    {
     "name": "stderr",
     "output_type": "stream",
     "text": [
      "                                                                                \r"
     ]
    },
    {
     "name": "stdout",
     "output_type": "stream",
     "text": [
      "+-------+----------+----------+----------+----------+------------------+\n",
      "|user_id|session_id|event_type|event_page| timestamp|user_id_session_id|\n",
      "+-------+----------+----------+----------+----------+------------------+\n",
      "|      0|       874|      page|      main|1696371064|             0:874|\n",
      "|      0|       874|     event|      main|1696372696|             0:874|\n",
      "|      0|       874|     event|      main|1696373564|             0:874|\n",
      "|      0|       874|      page|    rabota|1696374894|             0:874|\n",
      "|      0|       874|     event|    rabota|1696377393|             0:874|\n",
      "|      0|       874|      page|    online|1696378229|             0:874|\n",
      "|      0|       874|     event|    online|1696378928|             0:874|\n",
      "+-------+----------+----------+----------+----------+------------------+\n",
      "\n"
     ]
    },
    {
     "name": "stderr",
     "output_type": "stream",
     "text": [
      "                                                                                \r"
     ]
    },
    {
     "name": "stdout",
     "output_type": "stream",
     "text": [
      "+-------+----------+------------------+----------+----------+------------------+\n",
      "|user_id|session_id|        event_type|event_page| timestamp|user_id_session_id|\n",
      "+-------+----------+------------------+----------+----------+------------------+\n",
      "|   3542|       351|              page|      main|1700088698|          3542:351|\n",
      "|   3542|       351|              page|    online|1700089082|          3542:351|\n",
      "|   3542|       351|             event|    online|1700089785|          3542:351|\n",
      "|   3542|       351|             event|    online|1700089869|          3542:351|\n",
      "|   3542|       351|yofherrorloHoSTKYY|    online|1700090430|          3542:351|\n",
      "|   3542|       351|             event|    online|1700091352|          3542:351|\n",
      "|   3542|       351|              page|   tariffs|1700091477|          3542:351|\n",
      "|   3542|       351|              page|   archive|1700091659|          3542:351|\n",
      "|   3542|       351|             event|   archive|1700091739|          3542:351|\n",
      "|   3542|       351|             event|   archive|1700092271|          3542:351|\n",
      "|   3542|       351|              page|      news|1700092357|          3542:351|\n",
      "|   3542|       351|              page|   archive|1700093218|          3542:351|\n",
      "|   3542|       351|             event|   archive|1700093990|          3542:351|\n",
      "|   3542|       351|             event|   archive|1700094492|          3542:351|\n",
      "|   3542|       351|              page|   tariffs|1700094833|          3542:351|\n",
      "+-------+----------+------------------+----------+----------+------------------+\n",
      "\n"
     ]
    },
    {
     "name": "stderr",
     "output_type": "stream",
     "text": [
      "                                                                                \r"
     ]
    }
   ],
   "source": [
    "clickstream_df= se.read.option(\"sep\", \"\\t\").option(\"header\",True).csv(\"hdfs:/data/clickstream.csv\")\n",
    "clickstream_df_mod =clickstream_df.withColumn(\"user_id_session_id\",(F.concat_ws(\":\",clickstream_df[\"user_id\"],clickstream_df['session_id'])))\n",
    "\n",
    "clickstream_df_mod.filter(clickstream_df_mod['session_id']==874).filter(clickstream_df_mod[\"user_id\"]==0).show()\n",
    "clickstream_df_mod.filter(clickstream_df_mod['session_id']==351).filter(clickstream_df_mod[\"user_id\"]==3542).show()"
   ]
  },
  {
   "cell_type": "code",
   "execution_count": 16,
   "metadata": {
    "tags": []
   },
   "outputs": [
    {
     "name": "stderr",
     "output_type": "stream",
     "text": [
      "                                                                                \r"
     ]
    },
    {
     "data": {
      "text/plain": [
       "48523"
      ]
     },
     "execution_count": 16,
     "metadata": {},
     "output_type": "execute_result"
    }
   ],
   "source": [
    "# total number of routes\n",
    "c=clickstream_df_mod.groupby(clickstream_df_mod['user_id_session_id']).agg(F.countDistinct('user_id_session_id').alias('count')).collect()\n",
    "count=0\n",
    "for x in c:\n",
    "    count+=x['count']\n",
    "count"
   ]
  },
  {
   "cell_type": "code",
   "execution_count": 17,
   "metadata": {
    "tags": []
   },
   "outputs": [
    {
     "name": "stderr",
     "output_type": "stream",
     "text": [
      "                                                                                \r"
     ]
    },
    {
     "name": "stdout",
     "output_type": "stream",
     "text": [
      "+---------------+------------------------+\n",
      "|timestamp_error|user_id_session_id_error|\n",
      "+---------------+------------------------+\n",
      "+---------------+------------------------+\n",
      "\n"
     ]
    },
    {
     "name": "stderr",
     "output_type": "stream",
     "text": [
      "                                                                                \r"
     ]
    },
    {
     "name": "stdout",
     "output_type": "stream",
     "text": [
      "+---------------+------------------------+\n",
      "|timestamp_error|user_id_session_id_error|\n",
      "+---------------+------------------------+\n",
      "|     1700090430|                3542:351|\n",
      "+---------------+------------------------+\n",
      "\n"
     ]
    },
    {
     "name": "stderr",
     "output_type": "stream",
     "text": [
      "                                                                                \r"
     ]
    },
    {
     "data": {
      "text/plain": [
       "14569"
      ]
     },
     "execution_count": 17,
     "metadata": {},
     "output_type": "execute_result"
    }
   ],
   "source": [
    "# find line with errors\n",
    "clickstream_df_errors= (\n",
    "    clickstream_df_mod\n",
    "    .filter(clickstream_df_mod['event_type'].like('%error%'))\n",
    "    .withColumnRenamed('timestamp', 'timestamp_error')\n",
    "    .withColumnRenamed('user_id_session_id', 'user_id_session_id_error')\n",
    "    .select(['timestamp_error','user_id_session_id_error'])\n",
    "    .dropDuplicates(['user_id_session_id_error'])\n",
    ")\n",
    "\n",
    "clickstream_df_errors.filter(clickstream_df_errors['user_id_session_id_error']=='0:874').show()\n",
    "clickstream_df_errors.filter(clickstream_df_errors['user_id_session_id_error']=='3542:351').show()\n",
    "clickstream_df_errors.count()"
   ]
  },
  {
   "cell_type": "code",
   "execution_count": 18,
   "metadata": {
    "tags": []
   },
   "outputs": [
    {
     "name": "stderr",
     "output_type": "stream",
     "text": [
      "                                                                                \r"
     ]
    },
    {
     "name": "stdout",
     "output_type": "stream",
     "text": [
      "+-------+----------+----------+----------+----------+------------------+---------------+------------------------+------------------+\n",
      "|user_id|session_id|event_type|event_page| timestamp|user_id_session_id|timestamp_error|user_id_session_id_error|Line_without_Error|\n",
      "+-------+----------+----------+----------+----------+------------------+---------------+------------------------+------------------+\n",
      "|      0|       874|      page|      main|1696371064|             0:874|           null|                    null|                 1|\n",
      "|      0|       874|     event|      main|1696372696|             0:874|           null|                    null|                 1|\n",
      "|      0|       874|     event|      main|1696373564|             0:874|           null|                    null|                 1|\n",
      "|      0|       874|      page|    rabota|1696374894|             0:874|           null|                    null|                 1|\n",
      "|      0|       874|     event|    rabota|1696377393|             0:874|           null|                    null|                 1|\n",
      "|      0|       874|      page|    online|1696378229|             0:874|           null|                    null|                 1|\n",
      "|      0|       874|     event|    online|1696378928|             0:874|           null|                    null|                 1|\n",
      "+-------+----------+----------+----------+----------+------------------+---------------+------------------------+------------------+\n",
      "\n"
     ]
    },
    {
     "name": "stderr",
     "output_type": "stream",
     "text": [
      "                                                                                \r"
     ]
    },
    {
     "name": "stdout",
     "output_type": "stream",
     "text": [
      "+-------+----------+------------------+----------+----------+------------------+---------------+------------------------+------------------+\n",
      "|user_id|session_id|        event_type|event_page| timestamp|user_id_session_id|timestamp_error|user_id_session_id_error|Line_without_Error|\n",
      "+-------+----------+------------------+----------+----------+------------------+---------------+------------------------+------------------+\n",
      "|   3542|       351|              page|      main|1700088698|          3542:351|     1700090430|                3542:351|                 1|\n",
      "|   3542|       351|              page|    online|1700089082|          3542:351|     1700090430|                3542:351|                 1|\n",
      "|   3542|       351|             event|    online|1700089785|          3542:351|     1700090430|                3542:351|                 1|\n",
      "|   3542|       351|             event|    online|1700089869|          3542:351|     1700090430|                3542:351|                 1|\n",
      "|   3542|       351|yofherrorloHoSTKYY|    online|1700090430|          3542:351|     1700090430|                3542:351|                 0|\n",
      "|   3542|       351|             event|    online|1700091352|          3542:351|     1700090430|                3542:351|                 0|\n",
      "|   3542|       351|              page|   tariffs|1700091477|          3542:351|     1700090430|                3542:351|                 0|\n",
      "|   3542|       351|              page|   archive|1700091659|          3542:351|     1700090430|                3542:351|                 0|\n",
      "|   3542|       351|             event|   archive|1700091739|          3542:351|     1700090430|                3542:351|                 0|\n",
      "|   3542|       351|             event|   archive|1700092271|          3542:351|     1700090430|                3542:351|                 0|\n",
      "|   3542|       351|              page|      news|1700092357|          3542:351|     1700090430|                3542:351|                 0|\n",
      "|   3542|       351|              page|   archive|1700093218|          3542:351|     1700090430|                3542:351|                 0|\n",
      "|   3542|       351|             event|   archive|1700093990|          3542:351|     1700090430|                3542:351|                 0|\n",
      "|   3542|       351|             event|   archive|1700094492|          3542:351|     1700090430|                3542:351|                 0|\n",
      "|   3542|       351|              page|   tariffs|1700094833|          3542:351|     1700090430|                3542:351|                 0|\n",
      "+-------+----------+------------------+----------+----------+------------------+---------------+------------------------+------------------+\n",
      "\n"
     ]
    }
   ],
   "source": [
    "# join base table with the table_errors\n",
    "clickstream_df_ready=(clickstream_df_mod\n",
    "     .join(clickstream_df_errors,clickstream_df_mod.user_id_session_id == clickstream_df_errors.user_id_session_id_error,'left_outer')\n",
    "     .withColumn(\"Line_without_Error\", F.when(clickstream_df_mod.timestamp >= clickstream_df_errors.timestamp_error , 0).otherwise(1)) \n",
    "    )\n",
    "\n",
    "clickstream_df_ready.filter(clickstream_df_ready['user_id_session_id']=='0:874').show()\n",
    "clickstream_df_ready.filter(clickstream_df_ready['user_id_session_id']=='3542:351').show()"
   ]
  },
  {
   "cell_type": "code",
   "execution_count": 19,
   "metadata": {
    "tags": []
   },
   "outputs": [
    {
     "name": "stderr",
     "output_type": "stream",
     "text": [
      "                                                                                \r"
     ]
    },
    {
     "name": "stdout",
     "output_type": "stream",
     "text": [
      "+-------+----------+----------+----------+------------------+----------+\n",
      "|user_id|session_id|event_type|event_page|user_id_session_id| timestamp|\n",
      "+-------+----------+----------+----------+------------------+----------+\n",
      "|      0|       874|      page|      main|             0:874|1696371064|\n",
      "|      0|       874|     event|      main|             0:874|1696372696|\n",
      "|      0|       874|     event|      main|             0:874|1696373564|\n",
      "|      0|       874|      page|    rabota|             0:874|1696374894|\n",
      "|      0|       874|     event|    rabota|             0:874|1696377393|\n",
      "|      0|       874|      page|    online|             0:874|1696378229|\n",
      "|      0|       874|     event|    online|             0:874|1696378928|\n",
      "+-------+----------+----------+----------+------------------+----------+\n",
      "\n"
     ]
    },
    {
     "name": "stderr",
     "output_type": "stream",
     "text": [
      "[Stage 76:===========================================>              (6 + 2) / 8]\r"
     ]
    },
    {
     "name": "stdout",
     "output_type": "stream",
     "text": [
      "+-------+----------+----------+----------+------------------+----------+\n",
      "|user_id|session_id|event_type|event_page|user_id_session_id| timestamp|\n",
      "+-------+----------+----------+----------+------------------+----------+\n",
      "|   3542|       351|      page|      main|          3542:351|1700088698|\n",
      "|   3542|       351|      page|    online|          3542:351|1700089082|\n",
      "|   3542|       351|     event|    online|          3542:351|1700089785|\n",
      "|   3542|       351|     event|    online|          3542:351|1700089869|\n",
      "+-------+----------+----------+----------+------------------+----------+\n",
      "\n"
     ]
    },
    {
     "name": "stderr",
     "output_type": "stream",
     "text": [
      "                                                                                \r"
     ]
    }
   ],
   "source": [
    "# make table with relevant lines\n",
    "clickstream_df_ready1=(clickstream_df_ready                    \n",
    ".filter(clickstream_df_ready.Line_without_Error==1)\n",
    ".select(['user_id','session_id','event_type','event_page','user_id_session_id','timestamp'])\n",
    "                       \n",
    ")\n",
    "\n",
    "clickstream_df_ready1.filter(clickstream_df_ready1['user_id_session_id']=='0:874').show()\n",
    "clickstream_df_ready1.filter(clickstream_df_ready1['user_id_session_id']=='3542:351').show()"
   ]
  },
  {
   "cell_type": "code",
   "execution_count": 20,
   "metadata": {
    "tags": []
   },
   "outputs": [
    {
     "name": "stderr",
     "output_type": "stream",
     "text": [
      "                                                                                \r"
     ]
    },
    {
     "name": "stdout",
     "output_type": "stream",
     "text": [
      "+------------------+--------------------+\n",
      "|user_id_session_id|     event_page_list|\n",
      "+------------------+--------------------+\n",
      "|             0:874|[main, main, main...|\n",
      "+------------------+--------------------+\n",
      "\n"
     ]
    },
    {
     "name": "stderr",
     "output_type": "stream",
     "text": [
      "                                                                                \r"
     ]
    },
    {
     "name": "stdout",
     "output_type": "stream",
     "text": [
      "+------------------+--------------------+\n",
      "|user_id_session_id|     event_page_list|\n",
      "+------------------+--------------------+\n",
      "|          3542:351|[main, online, on...|\n",
      "+------------------+--------------------+\n",
      "\n"
     ]
    }
   ],
   "source": [
    "# make a table with routes\n",
    "clickstream_df_ready2=(clickstream_df_ready1                  \n",
    "  .groupby(clickstream_df_ready1.user_id_session_id)                \n",
    "  .agg(F.collect_list(\"event_page\").alias(\"event_page_list\"))\n",
    "                  \n",
    ")\n",
    "\n",
    "\n",
    "clickstream_df_ready2.filter(clickstream_df_ready2['user_id_session_id']=='0:874').show()\n",
    "clickstream_df_ready2.filter(clickstream_df_ready2['user_id_session_id']=='3542:351').show()"
   ]
  },
  {
   "cell_type": "code",
   "execution_count": 21,
   "metadata": {
    "tags": []
   },
   "outputs": [],
   "source": [
    "def dropdupl(raw):\n",
    "    new_list=[]\n",
    "    origin_list=raw\n",
    "    for x in origin_list:\n",
    "        if x not in new_list:\n",
    "\n",
    "            new_list.append(x)\n",
    "        else:\n",
    "            if new_list[-1]!=x:\n",
    "                new_list.append(x)\n",
    "    return \"-\".join(new_list)\n",
    "\n",
    "dropdupl = se.udf.register(\"dropdupl\", dropdupl)\n"
   ]
  },
  {
   "cell_type": "code",
   "execution_count": 22,
   "metadata": {
    "tags": []
   },
   "outputs": [
    {
     "name": "stderr",
     "output_type": "stream",
     "text": [
      "[Stage 106:>                                                        (0 + 1) / 1]\r"
     ]
    },
    {
     "name": "stdout",
     "output_type": "stream",
     "text": [
      "+--------------------+\n",
      "|    event_page_list1|\n",
      "+--------------------+\n",
      "|                main|\n",
      "|main-news-archive...|\n",
      "|                main|\n",
      "|main-bonus-archiv...|\n",
      "|main-bonus-news-r...|\n",
      "|                main|\n",
      "|         main-rabota|\n",
      "|       main-internet|\n",
      "|main-archive-onli...|\n",
      "|                main|\n",
      "|                main|\n",
      "|  main-tariffs-bonus|\n",
      "| main-archive-rabota|\n",
      "|main-archive-inte...|\n",
      "|main-internet-tar...|\n",
      "|         main-rabota|\n",
      "|main-online-bonus...|\n",
      "|        main-archive|\n",
      "|main-archive-tari...|\n",
      "|archive-rabota-ta...|\n",
      "|main-bonus-intern...|\n",
      "|main-bonus-news-i...|\n",
      "|                main|\n",
      "|main-news-rabota-...|\n",
      "|main-bonus-rabota...|\n",
      "|       main-internet|\n",
      "|main-bonus-rabota...|\n",
      "|        main-archive|\n",
      "|                main|\n",
      "|main-vklad-main-r...|\n",
      "|     main-vklad-news|\n",
      "|main-internet-rab...|\n",
      "|main-internet-mai...|\n",
      "|        main-archive|\n",
      "|                main|\n",
      "|main-rabota-onlin...|\n",
      "|        main-archive|\n",
      "|         main-rabota|\n",
      "|main-archive-bonu...|\n",
      "|main-news-bonus-t...|\n",
      "|main-news-rabota-...|\n",
      "|main-rabota-vklad...|\n",
      "|        main-archive|\n",
      "|main-internet-mai...|\n",
      "|main-internet-tar...|\n",
      "|        main-tariffs|\n",
      "|        main-archive|\n",
      "|main-vklad-archiv...|\n",
      "|                main|\n",
      "|                main|\n",
      "|main-news-rabota-...|\n",
      "|main-archive-vkla...|\n",
      "|main-rabota-archi...|\n",
      "|    main-rabota-main|\n",
      "|main-news-tariffs...|\n",
      "|main-archive-rabo...|\n",
      "|main-internet-rab...|\n",
      "|main-archive-vkla...|\n",
      "|  main-news-internet|\n",
      "|main-rabota-onlin...|\n",
      "|                main|\n",
      "|                main|\n",
      "|                main|\n",
      "|main-internet-rab...|\n",
      "|main-news-rabota-...|\n",
      "|main-bonus-intern...|\n",
      "| main-internet-vklad|\n",
      "|main-vklad-intern...|\n",
      "|main-bonus-rabota...|\n",
      "|   main-tariffs-main|\n",
      "|         main-rabota|\n",
      "|main-rabota-archi...|\n",
      "|main-internet-new...|\n",
      "|                main|\n",
      "|                main|\n",
      "|main-internet-bon...|\n",
      "|main-vklad-rabota...|\n",
      "|main-bonus-tariff...|\n",
      "|                main|\n",
      "|main-vklad-bonus-...|\n",
      "|main-tariffs-rabo...|\n",
      "|main-news-digital...|\n",
      "|main-internet-arc...|\n",
      "|main-vklad-rabota...|\n",
      "|main-archive-main...|\n",
      "|          main-bonus|\n",
      "|main-bonus-vklad-...|\n",
      "|                main|\n",
      "|main-archive-bonu...|\n",
      "|         main-rabota|\n",
      "|                main|\n",
      "|                main|\n",
      "|        main-tariffs|\n",
      "|main-internet-vkl...|\n",
      "|main-news-archive...|\n",
      "|main-tariffs-bonu...|\n",
      "|main-news-main-ne...|\n",
      "|       main-internet|\n",
      "|      main-news-main|\n",
      "|main-news-tariffs...|\n",
      "+--------------------+\n",
      "only showing top 100 rows\n",
      "\n"
     ]
    },
    {
     "name": "stderr",
     "output_type": "stream",
     "text": [
      "                                                                                \r"
     ]
    }
   ],
   "source": [
    "# delete duplicated words from the routes and change format\n",
    "clickstream_df_ready3= (clickstream_df_ready2               \n",
    "   .select(dropdupl(clickstream_df_ready2.event_page_list).alias('event_page_list1'))\n",
    ")\n",
    "\n",
    "clickstream_df_ready3.show(100)\n"
   ]
  },
  {
   "cell_type": "code",
   "execution_count": 23,
   "metadata": {
    "tags": []
   },
   "outputs": [
    {
     "name": "stderr",
     "output_type": "stream",
     "text": [
      "[Stage 112:==================================================>    (11 + 1) / 12]\r"
     ]
    },
    {
     "name": "stdout",
     "output_type": "stream",
     "text": [
      "+--------------------+-----+\n",
      "|    event_page_list1|count|\n",
      "+--------------------+-----+\n",
      "|                main| 8170|\n",
      "|        main-archive| 1102|\n",
      "|         main-rabota| 1045|\n",
      "|       main-internet|  893|\n",
      "|          main-bonus|  867|\n",
      "|           main-news|  764|\n",
      "|        main-tariffs|  677|\n",
      "|         main-online|  581|\n",
      "|          main-vklad|  516|\n",
      "| main-rabota-archive|  168|\n",
      "| main-archive-rabota|  166|\n",
      "|  main-bonus-archive|  141|\n",
      "|   main-rabota-bonus|  138|\n",
      "|    main-news-rabota|  135|\n",
      "|   main-bonus-rabota|  135|\n",
      "|main-archive-inte...|  133|\n",
      "|    main-rabota-news|  129|\n",
      "|main-internet-rabota|  128|\n",
      "|   main-archive-news|  125|\n",
      "|main-rabota-internet|  123|\n",
      "|main-internet-arc...|  123|\n",
      "|  main-archive-bonus|  119|\n",
      "|main-tariffs-inte...|  114|\n",
      "| main-internet-bonus|  114|\n",
      "|   main-news-archive|  113|\n",
      "|  main-news-internet|  109|\n",
      "|  main-internet-news|  102|\n",
      "|main-archive-tariffs|  102|\n",
      "|main-tariffs-archive|  102|\n",
      "| main-archive-online|   93|\n",
      "+--------------------+-----+\n",
      "only showing top 30 rows\n",
      "\n"
     ]
    },
    {
     "name": "stderr",
     "output_type": "stream",
     "text": [
      "                                                                                \r"
     ]
    }
   ],
   "source": [
    "# count routes\n",
    "clickstream_df_ready4= (clickstream_df_ready3                   \n",
    "      .groupby(clickstream_df_ready3.event_page_list1)\n",
    "      .count()\n",
    "      .orderBy('count', ascending=False)\n",
    ") \n",
    "\n",
    "clickstream_df_ready4.show(30)"
   ]
  },
  {
   "cell_type": "code",
   "execution_count": 24,
   "metadata": {
    "tags": []
   },
   "outputs": [
    {
     "name": "stderr",
     "output_type": "stream",
     "text": [
      "                                                                                \r"
     ]
    }
   ],
   "source": [
    "a =clickstream_df_ready4.collect()"
   ]
  },
  {
   "cell_type": "code",
   "execution_count": 25,
   "metadata": {
    "tags": []
   },
   "outputs": [
    {
     "data": {
      "text/plain": [
       "48522"
      ]
     },
     "execution_count": 25,
     "metadata": {},
     "output_type": "execute_result"
    }
   ],
   "source": [
    "# total number of routes\n",
    "count=0\n",
    "for x in a:\n",
    "    count+=x['count']\n",
    "count"
   ]
  },
  {
   "cell_type": "code",
   "execution_count": 26,
   "metadata": {
    "tags": []
   },
   "outputs": [
    {
     "data": {
      "text/plain": [
       "{'main': 8170,\n",
       " 'main-archive': 1103,\n",
       " 'main-rabota': 1045,\n",
       " 'main-internet': 891,\n",
       " 'main-bonus': 868,\n",
       " 'main-news': 766,\n",
       " 'main-tariffs': 676,\n",
       " 'main-online': 583,\n",
       " 'main-vklad': 517,\n",
       " 'main-rabota-archive': 168,\n",
       " 'main-archive-rabota': 165,\n",
       " 'main-bonus-archive': 140,\n",
       " 'main-rabota-bonus': 139,\n",
       " 'main-bonus-rabota': 135,\n",
       " 'main-news-rabota': 134,\n",
       " 'main-archive-internet': 133,\n",
       " 'main-rabota-news': 129,\n",
       " 'main-internet-rabota': 128,\n",
       " 'main-archive-news': 125,\n",
       " 'main-internet-archive': 124,\n",
       " 'main-rabota-internet': 123,\n",
       " 'main-archive-bonus': 119,\n",
       " 'main-tariffs-internet': 114,\n",
       " 'main-internet-bonus': 114,\n",
       " 'main-news-archive': 113,\n",
       " 'main-news-internet': 109,\n",
       " 'main-archive-tariffs': 103,\n",
       " 'main-internet-news': 102,\n",
       " 'main-tariffs-archive': 102,\n",
       " 'main-archive-main': 94}"
      ]
     },
     "execution_count": 26,
     "metadata": {},
     "output_type": "execute_result"
    }
   ],
   "source": [
    "# top 30 routes\n",
    "MyDic={}\n",
    "for x in a [:30]:\n",
    "    MyDic[x['event_page_list1']]=x['count']\n",
    "MyDic"
   ]
  },
  {
   "cell_type": "markdown",
   "metadata": {},
   "source": [
    "As we can see that Spark works incorrect . In 'clickstream_df_ready4.show(30)'  we can see that 'main-archive ' route has 1102 users  while in 'clickstream_df_ready4.collect()' has 1103 users"
   ]
  },
  {
   "cell_type": "markdown",
   "metadata": {},
   "source": [
    "# RDD"
   ]
  },
  {
   "cell_type": "code",
   "execution_count": 27,
   "metadata": {
    "tags": []
   },
   "outputs": [],
   "source": [
    "from collections import OrderedDict"
   ]
  },
  {
   "cell_type": "code",
   "execution_count": 28,
   "metadata": {
    "tags": []
   },
   "outputs": [],
   "source": [
    "def dropdupl1(raw):\n",
    "    new_list=[]\n",
    "    origin_list=raw\n",
    "    for x in origin_list:\n",
    "        if x not in new_list:\n",
    "\n",
    "            new_list.append(x)\n",
    "        else:\n",
    "            if new_list[-1]!=x:\n",
    "                new_list.append(x)\n",
    "    return \"-\".join(new_list)"
   ]
  },
  {
   "cell_type": "code",
   "execution_count": 29,
   "metadata": {
    "tags": []
   },
   "outputs": [],
   "source": [
    "click_rdd= se.read.option(\"sep\", \"\\t\").option(\"header\",True).csv(\"hdfs:/data/clickstream.csv\")\n",
    "click_rdd_error=(click_rdd.rdd\n",
    "   .filter(lambda x: x.event_type!='page')\n",
    "   .filter(lambda x: x.event_type!='event')\n",
    "   .map (lambda x : (x.user_id+':'+x.session_id, x.timestamp))\n",
    "   .groupByKey()\n",
    "   .mapValues(min)\n",
    ")\n",
    "\n",
    "click_rdd_filtered=(click_rdd.rdd\n",
    "   .map (lambda x : (x.user_id+':'+x.session_id,x.timestamp))\n",
    "   .leftOuterJoin(click_rdd_error)\n",
    "   .filter(lambda a:  a[1][1]==None or a[1][0] <  a[1][1])\n",
    "   .map(lambda a : (a[0]+'+'+a[1][0],1))\n",
    ")\n",
    "\n",
    "\n",
    "#click_rdd_filtered.collect()\n"
   ]
  },
  {
   "cell_type": "code",
   "execution_count": 30,
   "metadata": {
    "tags": []
   },
   "outputs": [
    {
     "name": "stderr",
     "output_type": "stream",
     "text": [
      "                                                                                \r"
     ]
    }
   ],
   "source": [
    "click_rdd_mod=(click_rdd.rdd\n",
    "   .map (lambda x : (x.user_id+':'+x.session_id+'+'+x.timestamp,x.event_page))\n",
    "   .leftOuterJoin(click_rdd_filtered)\n",
    "   .filter(lambda a: a[1][1] != None)            \n",
    "   .map(lambda a: (a[0].split('+')[0],a[1][0]))\n",
    "   .groupByKey()\n",
    "   .mapValues(list)\n",
    "   .map(lambda a: (dropdupl1(a[1]),1) )\n",
    "   .reduceByKey(lambda a,b: a+b)\n",
    "   .sortBy(lambda a: a[1] ,ascending=False )\n",
    "   #.map(lambda a: sum(a[1]) )\n",
    "         \n",
    ") \n",
    "\n",
    "a= click_rdd_mod.collect()\n",
    "\n"
   ]
  },
  {
   "cell_type": "code",
   "execution_count": 31,
   "metadata": {
    "tags": []
   },
   "outputs": [
    {
     "data": {
      "text/plain": [
       "48522"
      ]
     },
     "execution_count": 31,
     "metadata": {},
     "output_type": "execute_result"
    }
   ],
   "source": [
    "# total number of routes\n",
    "count=0\n",
    "for x in a:\n",
    "    count+=x[1]\n",
    "count"
   ]
  },
  {
   "cell_type": "code",
   "execution_count": 32,
   "metadata": {
    "tags": []
   },
   "outputs": [
    {
     "data": {
      "text/plain": [
       "{'main': 8184,\n",
       " 'main-archive': 291,\n",
       " 'main-rabota': 272,\n",
       " 'archive-main': 262,\n",
       " 'rabota-main': 242,\n",
       " 'main-internet': 240,\n",
       " 'main-bonus': 237,\n",
       " 'main-news': 215,\n",
       " 'bonus-main': 203,\n",
       " 'main-archive-main': 194,\n",
       " 'internet-main': 187,\n",
       " 'main-rabota-main': 186,\n",
       " 'news-main': 177,\n",
       " 'archive-main-archive': 176,\n",
       " 'rabota-main-rabota': 173,\n",
       " 'main-tariffs': 171,\n",
       " 'main-internet-main': 164,\n",
       " 'main-online': 162,\n",
       " 'internet-main-internet': 161,\n",
       " 'main-bonus-main': 151,\n",
       " 'tariffs-main': 145,\n",
       " 'main-vklad': 139,\n",
       " 'bonus-main-bonus': 132,\n",
       " 'online-main': 129,\n",
       " 'main-news-main': 128,\n",
       " 'tariffs-main-tariffs': 124,\n",
       " 'vklad-main': 122,\n",
       " 'main-tariffs-main': 117,\n",
       " 'main-online-main': 115,\n",
       " 'news-main-news': 112}"
      ]
     },
     "execution_count": 32,
     "metadata": {},
     "output_type": "execute_result"
    }
   ],
   "source": [
    "# top 30 routes\n",
    "MyDic={}\n",
    "for x in a [:30]:\n",
    "    MyDic[x[0]]=x[1]\n",
    "MyDic"
   ]
  },
  {
   "cell_type": "code",
   "execution_count": null,
   "metadata": {},
   "outputs": [],
   "source": []
  }
 ],
 "metadata": {
  "coursera": {
   "schema_names": [
    "week-4-spark-homework"
   ]
  },
  "kernelspec": {
   "display_name": "Python 3 (ipykernel)",
   "language": "python",
   "name": "python3"
  },
  "language_info": {
   "codemirror_mode": {
    "name": "ipython",
    "version": 3
   },
   "file_extension": ".py",
   "mimetype": "text/x-python",
   "name": "python",
   "nbconvert_exporter": "python",
   "pygments_lexer": "ipython3",
   "version": "3.10.9"
  },
  "vscode": {
   "interpreter": {
    "hash": "31f2aee4e71d21fbe5cf8b01ff0e069b9275f58929596ceb00d14d90e3e16cd6"
   }
  }
 },
 "nbformat": 4,
 "nbformat_minor": 4
}
